{
  "nbformat": 4,
  "nbformat_minor": 0,
  "metadata": {
    "colab": {
      "provenance": []
    },
    "kernelspec": {
      "name": "python3",
      "display_name": "Python 3"
    },
    "language_info": {
      "name": "python"
    }
  },
  "cells": [
    {
      "cell_type": "markdown",
      "source": [
        "##CONJUNTO DE DATOS DEL PROCESO IMPREGNACIÓN PARA EL CONTROLAR DE DOSIFICACIÓN DE RESINA IMPREGNADA EN PAPEL MEDIANTE LA SEPARACIÓN DE LOS DOS RODILLOS GAP."
      ],
      "metadata": {
        "id": "uobhLt6TSFOl"
      }
    },
    {
      "cell_type": "markdown",
      "source": [
        "El proposito principal de este dataset es predecir el valor del GAP entre dos rodillos encargados de controlar la dosificación de resina en un rollo de papel que es desbobinado automaticamente. En este dataset existen dos variables objectivo del estudio, uno es GAP LO(mm) y otro es GAP LC(mm)."
      ],
      "metadata": {
        "id": "aNs5jR_NSH5d"
      }
    },
    {
      "cell_type": "code",
      "source": [
        "!pip install mglearn"
      ],
      "metadata": {
        "colab": {
          "base_uri": "https://localhost:8080/"
        },
        "id": "KY6dGuA7SNrR",
        "outputId": "14ad808f-48fc-4992-e813-b399f39aaf2d"
      },
      "execution_count": 1,
      "outputs": [
        {
          "output_type": "stream",
          "name": "stdout",
          "text": [
            "Collecting mglearn\n",
            "  Downloading mglearn-0.2.0-py2.py3-none-any.whl (581 kB)\n",
            "\u001b[2K     \u001b[90m━━━━━━━━━━━━━━━━━━━━━━━━━━━━━━━━━━━━━━━━\u001b[0m \u001b[32m581.4/581.4 kB\u001b[0m \u001b[31m4.9 MB/s\u001b[0m eta \u001b[36m0:00:00\u001b[0m\n",
            "\u001b[?25hRequirement already satisfied: numpy in /usr/local/lib/python3.10/dist-packages (from mglearn) (1.23.5)\n",
            "Requirement already satisfied: matplotlib in /usr/local/lib/python3.10/dist-packages (from mglearn) (3.7.1)\n",
            "Requirement already satisfied: scikit-learn in /usr/local/lib/python3.10/dist-packages (from mglearn) (1.2.2)\n",
            "Requirement already satisfied: pandas in /usr/local/lib/python3.10/dist-packages (from mglearn) (1.5.3)\n",
            "Requirement already satisfied: pillow in /usr/local/lib/python3.10/dist-packages (from mglearn) (9.4.0)\n",
            "Requirement already satisfied: cycler in /usr/local/lib/python3.10/dist-packages (from mglearn) (0.12.1)\n",
            "Requirement already satisfied: imageio in /usr/local/lib/python3.10/dist-packages (from mglearn) (2.31.6)\n",
            "Requirement already satisfied: joblib in /usr/local/lib/python3.10/dist-packages (from mglearn) (1.3.2)\n",
            "Requirement already satisfied: contourpy>=1.0.1 in /usr/local/lib/python3.10/dist-packages (from matplotlib->mglearn) (1.2.0)\n",
            "Requirement already satisfied: fonttools>=4.22.0 in /usr/local/lib/python3.10/dist-packages (from matplotlib->mglearn) (4.45.1)\n",
            "Requirement already satisfied: kiwisolver>=1.0.1 in /usr/local/lib/python3.10/dist-packages (from matplotlib->mglearn) (1.4.5)\n",
            "Requirement already satisfied: packaging>=20.0 in /usr/local/lib/python3.10/dist-packages (from matplotlib->mglearn) (23.2)\n",
            "Requirement already satisfied: pyparsing>=2.3.1 in /usr/local/lib/python3.10/dist-packages (from matplotlib->mglearn) (3.1.1)\n",
            "Requirement already satisfied: python-dateutil>=2.7 in /usr/local/lib/python3.10/dist-packages (from matplotlib->mglearn) (2.8.2)\n",
            "Requirement already satisfied: pytz>=2020.1 in /usr/local/lib/python3.10/dist-packages (from pandas->mglearn) (2023.3.post1)\n",
            "Requirement already satisfied: scipy>=1.3.2 in /usr/local/lib/python3.10/dist-packages (from scikit-learn->mglearn) (1.11.4)\n",
            "Requirement already satisfied: threadpoolctl>=2.0.0 in /usr/local/lib/python3.10/dist-packages (from scikit-learn->mglearn) (3.2.0)\n",
            "Requirement already satisfied: six>=1.5 in /usr/local/lib/python3.10/dist-packages (from python-dateutil>=2.7->matplotlib->mglearn) (1.16.0)\n",
            "Installing collected packages: mglearn\n",
            "Successfully installed mglearn-0.2.0\n"
          ]
        }
      ]
    },
    {
      "cell_type": "code",
      "source": [
        "import pandas as pd\n",
        "import numpy as np\n",
        "import matplotlib.pyplot as plt                                                                                      #libreria para generación de graficos en 2D\n",
        "import mglearn as mg\n",
        "import plotly.express as px\n",
        "from sklearn.decomposition import PCA\n",
        "from sklearn.model_selection import train_test_split                                                                 #libreria para dividir conjunto de datos en train y test.\n",
        "from sklearn.preprocessing import StandardScaler\n",
        "from sklearn.preprocessing import PolynomialFeatures\n",
        "from sklearn.linear_model import Ridge\n",
        "from sklearn.metrics import accuracy_score                                                    #libreria para usar matriz de confusión, calcular la presición, recall y exactitud.\n",
        "from sklearn.linear_model import Lasso\n",
        "import seaborn as sns\n",
        "from scipy import stats\n",
        "from matplotlib.patheffects import withStroke\n",
        "import itertools\n",
        "from sklearn.preprocessing import PolynomialFeatures\n",
        "from sklearn.preprocessing import OneHotEncoder"
      ],
      "metadata": {
        "id": "tOkN3xmBSSDq"
      },
      "execution_count": 2,
      "outputs": []
    },
    {
      "cell_type": "markdown",
      "source": [
        "##ENTENDIMIENTO DE LOS DATOS"
      ],
      "metadata": {
        "id": "nrcxEG6FSaYJ"
      }
    },
    {
      "cell_type": "markdown",
      "source": [
        "**LEEMOS EL DATASET QUE CONTIENE LOS DATOS DEL PROCESO DE LA IMPREGNADORA DE PAPEL.**"
      ],
      "metadata": {
        "id": "9gZi8W1aSbWw"
      }
    },
    {
      "cell_type": "code",
      "source": [
        "proyecto=pd.read_csv('https://raw.githubusercontent.com/aristidesuao/proyectoAP/main/proyectoAP.csv',delimiter=';') #archivo csv que los datos del proceso gap de la impregnadora de papel.\n",
        "\n",
        "df=pd.DataFrame(proyecto) #se crea dataframe"
      ],
      "metadata": {
        "id": "ayZXAPc_SkKj"
      },
      "execution_count": 3,
      "outputs": []
    },
    {
      "cell_type": "markdown",
      "source": [
        "el archivo CSV está en un repositorio de github."
      ],
      "metadata": {
        "id": "CUhlGZ6hSpDf"
      }
    },
    {
      "cell_type": "code",
      "source": [
        "df.head() #se muestra el dataframe"
      ],
      "metadata": {
        "colab": {
          "base_uri": "https://localhost:8080/",
          "height": 290
        },
        "id": "tKaGYlWzSroF",
        "outputId": "2992a0b0-7b7e-446b-80a8-da8191c10633"
      },
      "execution_count": 4,
      "outputs": [
        {
          "output_type": "execute_result",
          "data": {
            "text/plain": [
              "  DISENO  Gramaje  PLANTA GAP LO(mm) GAP LT(mm)   TEMPERATURA HORNO 1(C)  \\\n",
              "0   Nuez        60    FF1       0,09      0,087                      126   \n",
              "1   Nuez        60    FF1       0,09      0,087                      126   \n",
              "2   Nuez        60    BP1       0,09      0,087                      130   \n",
              "3   Nuez        60    BP1       0,09      0,087                      130   \n",
              "4   Nuez        60    BP1       0,09      0,087                      130   \n",
              "\n",
              "    TEMPERATURA HORNO 2(C)   TEMPERATURA HORNO 3(C)   TEMPERATURA HORNO 4(C)  \\\n",
              "0                      126                      126                      217   \n",
              "1                      126                      126                      217   \n",
              "2                      130                      130                      214   \n",
              "3                      130                      130                      214   \n",
              "4                      130                      130                      214   \n",
              "\n",
              "    TEMPERATURA HORNO 5(C)  ...  PESO IMPREGNADO LO1  PESO IMPREGNADO LC  \\\n",
              "0                      220  ...                154,6               155,3   \n",
              "1                      220  ...                154,6               155,3   \n",
              "2                      220  ...                153,7               154,2   \n",
              "3                      220  ...                156,6               153,7   \n",
              "4                      220  ...                148,9               148,9   \n",
              "\n",
              "   PESO IMPREGNADO LT1  VOLATILES LO2  VOLATILES LC2   VOLATILES LT2  FLUIDEZ  \\\n",
              "0                155,6            5,7            4,9             5,6      4,1   \n",
              "1                155,6            5,7            4,9             5,6      4,1   \n",
              "2                151,8            6,2            5,8             6,1        5   \n",
              "3                  154            5,7            5,2             5,8        5   \n",
              "4                147,6            5,6              5             5,7      4,1   \n",
              "\n",
              "   ESTADO B LO3 ESTADO B LC3 ESTADO B LT3  \n",
              "0            36         59,1         42,5  \n",
              "1            36         59,1         42,5  \n",
              "2          22,6         38,8         30,4  \n",
              "3          24,7         44,1         29,4  \n",
              "4          20,9           37         21,5  \n",
              "\n",
              "[5 rows x 28 columns]"
            ],
            "text/html": [
              "\n",
              "  <div id=\"df-d6f447ed-27df-4d25-858f-5db50c810e8c\" class=\"colab-df-container\">\n",
              "    <div>\n",
              "<style scoped>\n",
              "    .dataframe tbody tr th:only-of-type {\n",
              "        vertical-align: middle;\n",
              "    }\n",
              "\n",
              "    .dataframe tbody tr th {\n",
              "        vertical-align: top;\n",
              "    }\n",
              "\n",
              "    .dataframe thead th {\n",
              "        text-align: right;\n",
              "    }\n",
              "</style>\n",
              "<table border=\"1\" class=\"dataframe\">\n",
              "  <thead>\n",
              "    <tr style=\"text-align: right;\">\n",
              "      <th></th>\n",
              "      <th>DISENO</th>\n",
              "      <th>Gramaje</th>\n",
              "      <th>PLANTA</th>\n",
              "      <th>GAP LO(mm)</th>\n",
              "      <th>GAP LT(mm)</th>\n",
              "      <th>TEMPERATURA HORNO 1(C)</th>\n",
              "      <th>TEMPERATURA HORNO 2(C)</th>\n",
              "      <th>TEMPERATURA HORNO 3(C)</th>\n",
              "      <th>TEMPERATURA HORNO 4(C)</th>\n",
              "      <th>TEMPERATURA HORNO 5(C)</th>\n",
              "      <th>...</th>\n",
              "      <th>PESO IMPREGNADO LO1</th>\n",
              "      <th>PESO IMPREGNADO LC</th>\n",
              "      <th>PESO IMPREGNADO LT1</th>\n",
              "      <th>VOLATILES LO2</th>\n",
              "      <th>VOLATILES LC2</th>\n",
              "      <th>VOLATILES LT2</th>\n",
              "      <th>FLUIDEZ</th>\n",
              "      <th>ESTADO B LO3</th>\n",
              "      <th>ESTADO B LC3</th>\n",
              "      <th>ESTADO B LT3</th>\n",
              "    </tr>\n",
              "  </thead>\n",
              "  <tbody>\n",
              "    <tr>\n",
              "      <th>0</th>\n",
              "      <td>Nuez</td>\n",
              "      <td>60</td>\n",
              "      <td>FF1</td>\n",
              "      <td>0,09</td>\n",
              "      <td>0,087</td>\n",
              "      <td>126</td>\n",
              "      <td>126</td>\n",
              "      <td>126</td>\n",
              "      <td>217</td>\n",
              "      <td>220</td>\n",
              "      <td>...</td>\n",
              "      <td>154,6</td>\n",
              "      <td>155,3</td>\n",
              "      <td>155,6</td>\n",
              "      <td>5,7</td>\n",
              "      <td>4,9</td>\n",
              "      <td>5,6</td>\n",
              "      <td>4,1</td>\n",
              "      <td>36</td>\n",
              "      <td>59,1</td>\n",
              "      <td>42,5</td>\n",
              "    </tr>\n",
              "    <tr>\n",
              "      <th>1</th>\n",
              "      <td>Nuez</td>\n",
              "      <td>60</td>\n",
              "      <td>FF1</td>\n",
              "      <td>0,09</td>\n",
              "      <td>0,087</td>\n",
              "      <td>126</td>\n",
              "      <td>126</td>\n",
              "      <td>126</td>\n",
              "      <td>217</td>\n",
              "      <td>220</td>\n",
              "      <td>...</td>\n",
              "      <td>154,6</td>\n",
              "      <td>155,3</td>\n",
              "      <td>155,6</td>\n",
              "      <td>5,7</td>\n",
              "      <td>4,9</td>\n",
              "      <td>5,6</td>\n",
              "      <td>4,1</td>\n",
              "      <td>36</td>\n",
              "      <td>59,1</td>\n",
              "      <td>42,5</td>\n",
              "    </tr>\n",
              "    <tr>\n",
              "      <th>2</th>\n",
              "      <td>Nuez</td>\n",
              "      <td>60</td>\n",
              "      <td>BP1</td>\n",
              "      <td>0,09</td>\n",
              "      <td>0,087</td>\n",
              "      <td>130</td>\n",
              "      <td>130</td>\n",
              "      <td>130</td>\n",
              "      <td>214</td>\n",
              "      <td>220</td>\n",
              "      <td>...</td>\n",
              "      <td>153,7</td>\n",
              "      <td>154,2</td>\n",
              "      <td>151,8</td>\n",
              "      <td>6,2</td>\n",
              "      <td>5,8</td>\n",
              "      <td>6,1</td>\n",
              "      <td>5</td>\n",
              "      <td>22,6</td>\n",
              "      <td>38,8</td>\n",
              "      <td>30,4</td>\n",
              "    </tr>\n",
              "    <tr>\n",
              "      <th>3</th>\n",
              "      <td>Nuez</td>\n",
              "      <td>60</td>\n",
              "      <td>BP1</td>\n",
              "      <td>0,09</td>\n",
              "      <td>0,087</td>\n",
              "      <td>130</td>\n",
              "      <td>130</td>\n",
              "      <td>130</td>\n",
              "      <td>214</td>\n",
              "      <td>220</td>\n",
              "      <td>...</td>\n",
              "      <td>156,6</td>\n",
              "      <td>153,7</td>\n",
              "      <td>154</td>\n",
              "      <td>5,7</td>\n",
              "      <td>5,2</td>\n",
              "      <td>5,8</td>\n",
              "      <td>5</td>\n",
              "      <td>24,7</td>\n",
              "      <td>44,1</td>\n",
              "      <td>29,4</td>\n",
              "    </tr>\n",
              "    <tr>\n",
              "      <th>4</th>\n",
              "      <td>Nuez</td>\n",
              "      <td>60</td>\n",
              "      <td>BP1</td>\n",
              "      <td>0,09</td>\n",
              "      <td>0,087</td>\n",
              "      <td>130</td>\n",
              "      <td>130</td>\n",
              "      <td>130</td>\n",
              "      <td>214</td>\n",
              "      <td>220</td>\n",
              "      <td>...</td>\n",
              "      <td>148,9</td>\n",
              "      <td>148,9</td>\n",
              "      <td>147,6</td>\n",
              "      <td>5,6</td>\n",
              "      <td>5</td>\n",
              "      <td>5,7</td>\n",
              "      <td>4,1</td>\n",
              "      <td>20,9</td>\n",
              "      <td>37</td>\n",
              "      <td>21,5</td>\n",
              "    </tr>\n",
              "  </tbody>\n",
              "</table>\n",
              "<p>5 rows × 28 columns</p>\n",
              "</div>\n",
              "    <div class=\"colab-df-buttons\">\n",
              "\n",
              "  <div class=\"colab-df-container\">\n",
              "    <button class=\"colab-df-convert\" onclick=\"convertToInteractive('df-d6f447ed-27df-4d25-858f-5db50c810e8c')\"\n",
              "            title=\"Convert this dataframe to an interactive table.\"\n",
              "            style=\"display:none;\">\n",
              "\n",
              "  <svg xmlns=\"http://www.w3.org/2000/svg\" height=\"24px\" viewBox=\"0 -960 960 960\">\n",
              "    <path d=\"M120-120v-720h720v720H120Zm60-500h600v-160H180v160Zm220 220h160v-160H400v160Zm0 220h160v-160H400v160ZM180-400h160v-160H180v160Zm440 0h160v-160H620v160ZM180-180h160v-160H180v160Zm440 0h160v-160H620v160Z\"/>\n",
              "  </svg>\n",
              "    </button>\n",
              "\n",
              "  <style>\n",
              "    .colab-df-container {\n",
              "      display:flex;\n",
              "      gap: 12px;\n",
              "    }\n",
              "\n",
              "    .colab-df-convert {\n",
              "      background-color: #E8F0FE;\n",
              "      border: none;\n",
              "      border-radius: 50%;\n",
              "      cursor: pointer;\n",
              "      display: none;\n",
              "      fill: #1967D2;\n",
              "      height: 32px;\n",
              "      padding: 0 0 0 0;\n",
              "      width: 32px;\n",
              "    }\n",
              "\n",
              "    .colab-df-convert:hover {\n",
              "      background-color: #E2EBFA;\n",
              "      box-shadow: 0px 1px 2px rgba(60, 64, 67, 0.3), 0px 1px 3px 1px rgba(60, 64, 67, 0.15);\n",
              "      fill: #174EA6;\n",
              "    }\n",
              "\n",
              "    .colab-df-buttons div {\n",
              "      margin-bottom: 4px;\n",
              "    }\n",
              "\n",
              "    [theme=dark] .colab-df-convert {\n",
              "      background-color: #3B4455;\n",
              "      fill: #D2E3FC;\n",
              "    }\n",
              "\n",
              "    [theme=dark] .colab-df-convert:hover {\n",
              "      background-color: #434B5C;\n",
              "      box-shadow: 0px 1px 3px 1px rgba(0, 0, 0, 0.15);\n",
              "      filter: drop-shadow(0px 1px 2px rgba(0, 0, 0, 0.3));\n",
              "      fill: #FFFFFF;\n",
              "    }\n",
              "  </style>\n",
              "\n",
              "    <script>\n",
              "      const buttonEl =\n",
              "        document.querySelector('#df-d6f447ed-27df-4d25-858f-5db50c810e8c button.colab-df-convert');\n",
              "      buttonEl.style.display =\n",
              "        google.colab.kernel.accessAllowed ? 'block' : 'none';\n",
              "\n",
              "      async function convertToInteractive(key) {\n",
              "        const element = document.querySelector('#df-d6f447ed-27df-4d25-858f-5db50c810e8c');\n",
              "        const dataTable =\n",
              "          await google.colab.kernel.invokeFunction('convertToInteractive',\n",
              "                                                    [key], {});\n",
              "        if (!dataTable) return;\n",
              "\n",
              "        const docLinkHtml = 'Like what you see? Visit the ' +\n",
              "          '<a target=\"_blank\" href=https://colab.research.google.com/notebooks/data_table.ipynb>data table notebook</a>'\n",
              "          + ' to learn more about interactive tables.';\n",
              "        element.innerHTML = '';\n",
              "        dataTable['output_type'] = 'display_data';\n",
              "        await google.colab.output.renderOutput(dataTable, element);\n",
              "        const docLink = document.createElement('div');\n",
              "        docLink.innerHTML = docLinkHtml;\n",
              "        element.appendChild(docLink);\n",
              "      }\n",
              "    </script>\n",
              "  </div>\n",
              "\n",
              "\n",
              "<div id=\"df-fca7860f-c510-47b4-a4f4-e98da1f31718\">\n",
              "  <button class=\"colab-df-quickchart\" onclick=\"quickchart('df-fca7860f-c510-47b4-a4f4-e98da1f31718')\"\n",
              "            title=\"Suggest charts\"\n",
              "            style=\"display:none;\">\n",
              "\n",
              "<svg xmlns=\"http://www.w3.org/2000/svg\" height=\"24px\"viewBox=\"0 0 24 24\"\n",
              "     width=\"24px\">\n",
              "    <g>\n",
              "        <path d=\"M19 3H5c-1.1 0-2 .9-2 2v14c0 1.1.9 2 2 2h14c1.1 0 2-.9 2-2V5c0-1.1-.9-2-2-2zM9 17H7v-7h2v7zm4 0h-2V7h2v10zm4 0h-2v-4h2v4z\"/>\n",
              "    </g>\n",
              "</svg>\n",
              "  </button>\n",
              "\n",
              "<style>\n",
              "  .colab-df-quickchart {\n",
              "      --bg-color: #E8F0FE;\n",
              "      --fill-color: #1967D2;\n",
              "      --hover-bg-color: #E2EBFA;\n",
              "      --hover-fill-color: #174EA6;\n",
              "      --disabled-fill-color: #AAA;\n",
              "      --disabled-bg-color: #DDD;\n",
              "  }\n",
              "\n",
              "  [theme=dark] .colab-df-quickchart {\n",
              "      --bg-color: #3B4455;\n",
              "      --fill-color: #D2E3FC;\n",
              "      --hover-bg-color: #434B5C;\n",
              "      --hover-fill-color: #FFFFFF;\n",
              "      --disabled-bg-color: #3B4455;\n",
              "      --disabled-fill-color: #666;\n",
              "  }\n",
              "\n",
              "  .colab-df-quickchart {\n",
              "    background-color: var(--bg-color);\n",
              "    border: none;\n",
              "    border-radius: 50%;\n",
              "    cursor: pointer;\n",
              "    display: none;\n",
              "    fill: var(--fill-color);\n",
              "    height: 32px;\n",
              "    padding: 0;\n",
              "    width: 32px;\n",
              "  }\n",
              "\n",
              "  .colab-df-quickchart:hover {\n",
              "    background-color: var(--hover-bg-color);\n",
              "    box-shadow: 0 1px 2px rgba(60, 64, 67, 0.3), 0 1px 3px 1px rgba(60, 64, 67, 0.15);\n",
              "    fill: var(--button-hover-fill-color);\n",
              "  }\n",
              "\n",
              "  .colab-df-quickchart-complete:disabled,\n",
              "  .colab-df-quickchart-complete:disabled:hover {\n",
              "    background-color: var(--disabled-bg-color);\n",
              "    fill: var(--disabled-fill-color);\n",
              "    box-shadow: none;\n",
              "  }\n",
              "\n",
              "  .colab-df-spinner {\n",
              "    border: 2px solid var(--fill-color);\n",
              "    border-color: transparent;\n",
              "    border-bottom-color: var(--fill-color);\n",
              "    animation:\n",
              "      spin 1s steps(1) infinite;\n",
              "  }\n",
              "\n",
              "  @keyframes spin {\n",
              "    0% {\n",
              "      border-color: transparent;\n",
              "      border-bottom-color: var(--fill-color);\n",
              "      border-left-color: var(--fill-color);\n",
              "    }\n",
              "    20% {\n",
              "      border-color: transparent;\n",
              "      border-left-color: var(--fill-color);\n",
              "      border-top-color: var(--fill-color);\n",
              "    }\n",
              "    30% {\n",
              "      border-color: transparent;\n",
              "      border-left-color: var(--fill-color);\n",
              "      border-top-color: var(--fill-color);\n",
              "      border-right-color: var(--fill-color);\n",
              "    }\n",
              "    40% {\n",
              "      border-color: transparent;\n",
              "      border-right-color: var(--fill-color);\n",
              "      border-top-color: var(--fill-color);\n",
              "    }\n",
              "    60% {\n",
              "      border-color: transparent;\n",
              "      border-right-color: var(--fill-color);\n",
              "    }\n",
              "    80% {\n",
              "      border-color: transparent;\n",
              "      border-right-color: var(--fill-color);\n",
              "      border-bottom-color: var(--fill-color);\n",
              "    }\n",
              "    90% {\n",
              "      border-color: transparent;\n",
              "      border-bottom-color: var(--fill-color);\n",
              "    }\n",
              "  }\n",
              "</style>\n",
              "\n",
              "  <script>\n",
              "    async function quickchart(key) {\n",
              "      const quickchartButtonEl =\n",
              "        document.querySelector('#' + key + ' button');\n",
              "      quickchartButtonEl.disabled = true;  // To prevent multiple clicks.\n",
              "      quickchartButtonEl.classList.add('colab-df-spinner');\n",
              "      try {\n",
              "        const charts = await google.colab.kernel.invokeFunction(\n",
              "            'suggestCharts', [key], {});\n",
              "      } catch (error) {\n",
              "        console.error('Error during call to suggestCharts:', error);\n",
              "      }\n",
              "      quickchartButtonEl.classList.remove('colab-df-spinner');\n",
              "      quickchartButtonEl.classList.add('colab-df-quickchart-complete');\n",
              "    }\n",
              "    (() => {\n",
              "      let quickchartButtonEl =\n",
              "        document.querySelector('#df-fca7860f-c510-47b4-a4f4-e98da1f31718 button');\n",
              "      quickchartButtonEl.style.display =\n",
              "        google.colab.kernel.accessAllowed ? 'block' : 'none';\n",
              "    })();\n",
              "  </script>\n",
              "</div>\n",
              "    </div>\n",
              "  </div>\n"
            ]
          },
          "metadata": {},
          "execution_count": 4
        }
      ]
    },
    {
      "cell_type": "code",
      "source": [
        "print(\"El número de registros es: \", df.shape[0])\n",
        "print(\"El número de atributos es: \", df.shape[1])"
      ],
      "metadata": {
        "colab": {
          "base_uri": "https://localhost:8080/"
        },
        "id": "Zw2IAUHISvNy",
        "outputId": "97255601-521d-451c-f62a-dbf61dd62423"
      },
      "execution_count": 5,
      "outputs": [
        {
          "output_type": "stream",
          "name": "stdout",
          "text": [
            "El número de registros es:  172\n",
            "El número de atributos es:  28\n"
          ]
        }
      ]
    },
    {
      "cell_type": "markdown",
      "source": [
        "El dataset contiene en total 172 registro y 28 columnas."
      ],
      "metadata": {
        "id": "ph749FOPSxtl"
      }
    },
    {
      "cell_type": "code",
      "source": [
        "df.columns"
      ],
      "metadata": {
        "colab": {
          "base_uri": "https://localhost:8080/"
        },
        "id": "9CG-NmEDSypQ",
        "outputId": "ecc502c4-0947-4795-cb1a-0554b19073d4"
      },
      "execution_count": 6,
      "outputs": [
        {
          "output_type": "execute_result",
          "data": {
            "text/plain": [
              "Index(['DISENO', 'Gramaje ', 'PLANTA', 'GAP LO(mm)', 'GAP LT(mm)',\n",
              "       ' TEMPERATURA HORNO 1(C)', ' TEMPERATURA HORNO 2(C)',\n",
              "       ' TEMPERATURA HORNO 3(C)', ' TEMPERATURA HORNO 4(C)',\n",
              "       ' TEMPERATURA HORNO 5(C)', ' TEMPERATURA HORNO 6(C)',\n",
              "       'VELOCIDAD VENTILADOR HORNO 1(rpm)',\n",
              "       'VELOCIDAD VENTILADOR HORNO 2(rpm)',\n",
              "       'VELOCIDAD VENTILADOR HORNO 3(rpm)',\n",
              "       'VELOCIDAD VENTILADOR HORNO 4 (rpm)',\n",
              "       'VELOCIDAD VENTILADOR HORNO 5 (rpm)',\n",
              "       'VELOCIDAD VENTILADOR HORNO 6 (rpm)', ' VELOCIDAD DE LA LINEA m/min',\n",
              "       'PESO IMPREGNADO LO1', 'PESO IMPREGNADO LC', 'PESO IMPREGNADO LT1',\n",
              "       'VOLATILES LO2', 'VOLATILES LC2', ' VOLATILES LT2', 'FLUIDEZ',\n",
              "       'ESTADO B LO3', 'ESTADO B LC3', 'ESTADO B LT3'],\n",
              "      dtype='object')"
            ]
          },
          "metadata": {},
          "execution_count": 6
        }
      ]
    },
    {
      "cell_type": "markdown",
      "source": [
        "#Descripción de cada target\n",
        "\n",
        "GAP LO(mm): separación en milimetros del lado del operacio entre los dos rodillos encargados de controlar la dosificación de resina en el papel. Este variable es un target. es una variable tipo numerica float.\n",
        "\n",
        "GAP LC(mm): separación en milimetros del lado contrario del operacio entre los dos rodillos encargados de controlar la dosificación de resina en el papel. Este variable es un target. es una variable tipo numerica float.\n",
        "\n",
        "#Descripción de cada caracteristica:\n",
        "\n",
        "DISEÑO:es el tipo de papel a impregnar. Es una variable categorica.\n",
        "\n",
        "Gramaje:peso por metro cuadrado del papel. Es una variable tipo numerica entero.\n",
        "\n",
        "PLANTA:es la planta laminadora de papel para el cual se fabrica el papel impregnado. Es una variable categorica\n",
        "\n",
        "TEMPERATURA HORNO DEL 1: Es la temperatura del horno numero uno de la planta de impregnación. Está en grados celsius. Es una variable tipo numerica float.\n",
        "\n",
        "TEMPERATURA HORNO DEL 2: Es la temperatura del horno numero dos de la planta de impregnación. Está en grados celsius. Es una variable tipo numerica float.\n",
        "\n",
        "TEMPERATURA HORNO DEL 3: Es la temperatura del horno numero tres de la planta de impregnación. Está en grados celsius. Es una variable tipo numerica float.\n",
        "\n",
        "TEMPERATURA HORNO DEL 4: Es la temperatura del horno numero cuatro de la planta de impregnación. Está en grados celsius. Es una variable tipo numerica float.\n",
        "\n",
        "TEMPERATURA HORNO DEL 5: Es la temperatura del horno numero cinco de la planta de impregnación. Está en grados celsius. Es una variable tipo numerica float.\n",
        "\n",
        "TEMPERATURA HORNO DEL 6: Es la temperatura del horno numero 6 de la planta de impregnación. Está en grados celsius. Es una variable tipo numerica float.\n",
        "\n",
        "VELOCIDAD VENTILADOR HORNO del 1: es la velocidad del ventilador del horno numero uno donde se seca la resina impregnada en el papel. Está en rpm. Es una variable tipo numerica float.\n",
        "\n",
        "VELOCIDAD VENTILADOR HORNO del 2: es la velocidad del ventilador del horno numero dos donde se seca la resina impregnada en el papel. Está en rpm. Es una variable tipo numerica float.\n",
        "\n",
        "VELOCIDAD VENTILADOR HORNO del 3: es la velocidad del ventilador del horno numero tres donde se seca la resina impregnada en el papel. Está en rpm. Es una variable tipo numerica float.\n",
        "\n",
        "VELOCIDAD VENTILADOR HORNO del 4: es la velocidad del ventilador del horno numero cuatro donde se seca la resina impregnada en el papel. Está en rpm. Es una variable tipo numerica float.\n",
        "\n",
        "VELOCIDAD VENTILADOR HORNO del 5: es la velocidad del ventilador del horno numero cinco donde se seca la resina impregnada en el papel. Está en rpm. Es una variable tipo numerica float.\n",
        "\n",
        "VELOCIDAD VENTILADOR HORNO del 6: es la velocidad del ventilador del horno numero seis donde se seca la resina impregnada en el papel. Está en rpm. Es una variable tipo numerica float.\n",
        "\n",
        "VELOCIDAD DE LA LINEA es la velocidad de los rodillos que generan la tension necesaria para que el papel se transporte desde la desbobinadora hasta la estación de corte de papel. Es una variable tipo numerica float.\n",
        "\n",
        "PESO IMPREGNADO LO1(lado operación): es la suma del papel base, la resina, los aditivos y la humedad del papel. Es la muestra tomada del lado izquierdo del papel seco. Es una variable tipo numerica float.\n",
        "\n",
        "PESO IMPREGNADO LC(lado centro de operación): es la suma del papel base, la resina, los aditivos y la humedad del papel. Es la muestra tomada en todo el centro del papel seco. Es una variable tipo numerica float.\n",
        "\n",
        "PESO IMPREGNADO LT1(lado contrario de operación): es la suma del papel base, la resina, los aditivos y la humedad del papel. Es la muestra tomada del lado derecho del papel seco. Es una variable tipo numerica float.\n",
        "\n",
        "VOLATILES LO2(lado operación): Los volátiles es la cantidad de agua que le queda al papel luego de tomar una muestra del lado izquierdo del papel seco y llevarla a 160° C durante 5 min. Es una variable tipo numerica float.\n",
        "\n",
        "VOLATILES LC2(lado centro de operación): Los volátiles es la cantidad de agua que le queda al papel luego de tomar una muestra del centro del papel seco y llevarla a 160° C durante 5 min. Es una variable tipo numerica float.\n",
        "\n",
        "VOLATILES LT2(lado contario de operación): Los volátiles es la cantidad de agua que le queda al papel luego de tomar una muestra del lado derecho del papel seco y llevarla a 160° C durante 5 min. Es una variable tipo numerica float.\n",
        "\n",
        "FLUIDEZ: es una prueba que muestra si el papel fluye dentro de las plantas de laminacion. Es una variable tipo numerica float.\n",
        "\n",
        "ESTADO B LO3(lado operación): Es un análisis que se hace para determinar el grado de curado de una muestra que se toma del lado izquierdo del papel seco. Es una variable tipo numerica float.\n",
        "\n",
        "ESTADO B LC3(lado centro operación): Es un análisis que se hace para determinar el grado de curado de una muestra que se toma del lado centro del papel seco. Es una variable tipo numerica float.\n",
        "\n",
        "ESTADO B LT3(lado contrario operación): Es un análisis que se hace para determinar el grado de curado de una muestra que se toma del lado derecho del papel seco. Es una variable tipo numerica float."
      ],
      "metadata": {
        "id": "IpCtyQhQS5GT"
      }
    },
    {
      "cell_type": "markdown",
      "source": [
        "#RENOMBRAMOS ALGUNAS COLUMNAS"
      ],
      "metadata": {
        "id": "W4EMIbb4TDcA"
      }
    },
    {
      "cell_type": "code",
      "source": [
        "df=df.rename(columns={'Gramaje ':'Gramaje',' TEMPERATURA HORNO 1(C)':'Temp Horno 1',' TEMPERATURA HORNO 2(C)':'Temp Horno 2',' TEMPERATURA HORNO 3(C)':'Temp Horno 3'\n",
        "                      ,' TEMPERATURA HORNO 4(C)':'Temp Horno 4',' TEMPERATURA HORNO 5(C)':'Temp Horno 5',' TEMPERATURA HORNO 6(C)':'Temp Horno 6',\n",
        "                      'VELOCIDAD VENTILADOR HORNO 1(rpm)':'Vel Vent Horno 1','VELOCIDAD VENTILADOR HORNO 2(rpm)':'Vel Vent Horno 2','VELOCIDAD VENTILADOR HORNO 3(rpm)':'Vel Vent Horno 3',\n",
        "                      'VELOCIDAD VENTILADOR HORNO 4 (rpm)':'Vel Vent Horno 4','VELOCIDAD VENTILADOR HORNO 5 (rpm)':'Vel Vent Horno 5','VELOCIDAD VENTILADOR HORNO 6 (rpm)':'Vel Vent Horno 6'\n",
        "                       ,' VELOCIDAD DE LA LINEA m/min':'Vel Linea',' VOLATILES LT2':'VOLATILES LT2'})"
      ],
      "metadata": {
        "id": "IJ7PnkXjTF0v"
      },
      "execution_count": 7,
      "outputs": []
    },
    {
      "cell_type": "code",
      "source": [
        "df.columns"
      ],
      "metadata": {
        "colab": {
          "base_uri": "https://localhost:8080/"
        },
        "id": "Q3wEsbuFTLMQ",
        "outputId": "88d490b2-db08-41a8-c006-21de43a94a8a"
      },
      "execution_count": 8,
      "outputs": [
        {
          "output_type": "execute_result",
          "data": {
            "text/plain": [
              "Index(['DISENO', 'Gramaje', 'PLANTA', 'GAP LO(mm)', 'GAP LT(mm)',\n",
              "       'Temp Horno 1', 'Temp Horno 2', 'Temp Horno 3', 'Temp Horno 4',\n",
              "       'Temp Horno 5', 'Temp Horno 6', 'Vel Vent Horno 1', 'Vel Vent Horno 2',\n",
              "       'Vel Vent Horno 3', 'Vel Vent Horno 4', 'Vel Vent Horno 5',\n",
              "       'Vel Vent Horno 6', 'Vel Linea', 'PESO IMPREGNADO LO1',\n",
              "       'PESO IMPREGNADO LC', 'PESO IMPREGNADO LT1', 'VOLATILES LO2',\n",
              "       'VOLATILES LC2', 'VOLATILES LT2', 'FLUIDEZ', 'ESTADO B LO3',\n",
              "       'ESTADO B LC3', 'ESTADO B LT3'],\n",
              "      dtype='object')"
            ]
          },
          "metadata": {},
          "execution_count": 8
        }
      ]
    },
    {
      "cell_type": "markdown",
      "source": [
        "con el método info podemos buscar valores nulos en alguna de las variables del dataset:"
      ],
      "metadata": {
        "id": "PS38eQRBTTVH"
      }
    },
    {
      "cell_type": "code",
      "source": [
        "df.info()"
      ],
      "metadata": {
        "colab": {
          "base_uri": "https://localhost:8080/"
        },
        "id": "ujiUtZayTWV0",
        "outputId": "f9eef11b-8c56-4bac-e311-ed1cf9adfc5c"
      },
      "execution_count": 9,
      "outputs": [
        {
          "output_type": "stream",
          "name": "stdout",
          "text": [
            "<class 'pandas.core.frame.DataFrame'>\n",
            "RangeIndex: 172 entries, 0 to 171\n",
            "Data columns (total 28 columns):\n",
            " #   Column               Non-Null Count  Dtype \n",
            "---  ------               --------------  ----- \n",
            " 0   DISENO               172 non-null    object\n",
            " 1   Gramaje              172 non-null    int64 \n",
            " 2   PLANTA               172 non-null    object\n",
            " 3   GAP LO(mm)           172 non-null    object\n",
            " 4   GAP LT(mm)           172 non-null    object\n",
            " 5   Temp Horno 1         172 non-null    int64 \n",
            " 6   Temp Horno 2         172 non-null    int64 \n",
            " 7   Temp Horno 3         172 non-null    int64 \n",
            " 8   Temp Horno 4         172 non-null    int64 \n",
            " 9   Temp Horno 5         172 non-null    int64 \n",
            " 10  Temp Horno 6         172 non-null    int64 \n",
            " 11  Vel Vent Horno 1     172 non-null    int64 \n",
            " 12  Vel Vent Horno 2     172 non-null    int64 \n",
            " 13  Vel Vent Horno 3     172 non-null    int64 \n",
            " 14  Vel Vent Horno 4     172 non-null    int64 \n",
            " 15  Vel Vent Horno 5     172 non-null    int64 \n",
            " 16  Vel Vent Horno 6     172 non-null    int64 \n",
            " 17  Vel Linea            172 non-null    int64 \n",
            " 18  PESO IMPREGNADO LO1  172 non-null    object\n",
            " 19  PESO IMPREGNADO LC   172 non-null    object\n",
            " 20  PESO IMPREGNADO LT1  172 non-null    object\n",
            " 21  VOLATILES LO2        172 non-null    object\n",
            " 22  VOLATILES LC2        172 non-null    object\n",
            " 23  VOLATILES LT2        172 non-null    object\n",
            " 24  FLUIDEZ              172 non-null    object\n",
            " 25  ESTADO B LO3         171 non-null    object\n",
            " 26  ESTADO B LC3         171 non-null    object\n",
            " 27  ESTADO B LT3         171 non-null    object\n",
            "dtypes: int64(14), object(14)\n",
            "memory usage: 37.8+ KB\n"
          ]
        }
      ]
    },
    {
      "cell_type": "markdown",
      "source": [
        "Teniendo en cuenta que el dataset contiene 172 registros se puede notar que las ultimas 3 variables hay solo 171, lo que quiere decir que existe un valor nulo en cada una de estas variables. Además, también se puede observar que las variablres 3,4,18,19,20,21,22,23,24,25,26,27 son tipo object, cuando realmente deberian ser tipo numerica. Esto es indicio de que existe bien un valor nulo o un valor no numerico.\n",
        "\n",
        "Se procede a convertir las columnas anteriormente mencionadas a valor float."
      ],
      "metadata": {
        "id": "lDIglgrATesU"
      }
    },
    {
      "cell_type": "code",
      "source": [
        "try:\n",
        "  df=df.astype({'GAP LO(mm)':'float64','GAP LT(mm)':'float64','PESO IMPREGNADO LO1':'float64',\n",
        "                'PESO IMPREGNADO LC':'float64','PESO IMPREGNADO LT1':'float64','VOLATILES LO2':'float64',\n",
        "                'VOLATILES LC2':'float64','VOLATILES LT2':'float64','FLUIDEZ':'float64','ESTADO B LO3':'float64',\n",
        "                'ESTADO B LC3':'float64','ESTADO B LT3':'float64'})\n",
        "except ValueError as e:\n",
        "    print(e)"
      ],
      "metadata": {
        "colab": {
          "base_uri": "https://localhost:8080/"
        },
        "id": "ZgqWyeG7TnSF",
        "outputId": "a1c08323-f061-4abd-d72b-b53f009726e6"
      },
      "execution_count": 10,
      "outputs": [
        {
          "output_type": "stream",
          "name": "stdout",
          "text": [
            "could not convert string to float: '0,09'\n"
          ]
        }
      ]
    },
    {
      "cell_type": "markdown",
      "source": [
        "El error anterior se debe a que el decimal de los registros de estas variables están separadas por comas y no por puntos."
      ],
      "metadata": {
        "id": "QEF0Q8bUTp9w"
      }
    },
    {
      "cell_type": "code",
      "source": [
        "df=df.replace(\",\",\".\",regex=True) # se reemplaza cada coma por punto en los registro del dataset."
      ],
      "metadata": {
        "id": "wRO_2OsITq85"
      },
      "execution_count": 11,
      "outputs": []
    },
    {
      "cell_type": "markdown",
      "source": [
        "Se procede a convertir las columnas anteriormente mencionadas a valor float."
      ],
      "metadata": {
        "id": "guz7Di88TuqC"
      }
    },
    {
      "cell_type": "code",
      "source": [
        "try:\n",
        "  df=df.astype({'GAP LO(mm)':'float64','GAP LT(mm)':'float64','PESO IMPREGNADO LO1':'float64',\n",
        "                'PESO IMPREGNADO LC':'float64','PESO IMPREGNADO LT1':'float64','VOLATILES LO2':'float64',\n",
        "                'VOLATILES LC2':'float64','VOLATILES LT2':'float64','FLUIDEZ':'float64','ESTADO B LO3':'float64',\n",
        "                'ESTADO B LC3':'float64','ESTADO B LT3':'float64'})\n",
        "except ValueError as e:\n",
        "    print(e)"
      ],
      "metadata": {
        "colab": {
          "base_uri": "https://localhost:8080/"
        },
        "id": "_OMtqHAITxfb",
        "outputId": "35bbcd4d-1537-47b3-adc3-419e8d8e81d2"
      },
      "execution_count": 12,
      "outputs": [
        {
          "output_type": "stream",
          "name": "stdout",
          "text": [
            "could not convert string to float: '-'\n"
          ]
        }
      ]
    },
    {
      "cell_type": "markdown",
      "source": [
        "El error anterior se debe a que un registro de las variables anteriores contiene el caracter \"-\". Es por esto que las variables son tipo object y no numerica. Se procede a reemplazar el caracter \"-\" por la moda de cada variable."
      ],
      "metadata": {
        "id": "lbVpWDoYT2qb"
      }
    },
    {
      "cell_type": "code",
      "source": [
        "columns=['GAP LO(mm)','GAP LT(mm)','PESO IMPREGNADO LO1',\n",
        "                'PESO IMPREGNADO LC','PESO IMPREGNADO LT1','VOLATILES LO2',\n",
        "                'VOLATILES LC2','VOLATILES LT2','FLUIDEZ','ESTADO B LO3',\n",
        "                'ESTADO B LC3','ESTADO B LT3']\n",
        "\n",
        "for i in range(0,len(columns)):\n",
        "   df[columns[i]]=df[columns[i]].replace(\"-\",df[columns[i]].mode()[0],regex=True)"
      ],
      "metadata": {
        "id": "u2goDY9mT2Th"
      },
      "execution_count": 16,
      "outputs": []
    },
    {
      "cell_type": "markdown",
      "source": [
        "Se procede a convertir las columnas anteriormente mencionadas a valor float."
      ],
      "metadata": {
        "id": "Fw7RkqD0T80Z"
      }
    },
    {
      "cell_type": "code",
      "source": [
        "try:\n",
        "  df=df.astype({'GAP LO(mm)':'float64','GAP LT(mm)':'float64','PESO IMPREGNADO LO1':'float64',\n",
        "                'PESO IMPREGNADO LC':'float64','PESO IMPREGNADO LT1':'float64','VOLATILES LO2':'float64',\n",
        "                'VOLATILES LC2':'float64','VOLATILES LT2':'float64','FLUIDEZ':'float64','ESTADO B LO3':'float64',\n",
        "                'ESTADO B LC3':'float64','ESTADO B LT3':'float64'})\n",
        "except ValueError as e:\n",
        "    print(e)"
      ],
      "metadata": {
        "id": "VU2woCRaT_Lc"
      },
      "execution_count": 17,
      "outputs": []
    },
    {
      "cell_type": "code",
      "source": [
        "df.info()"
      ],
      "metadata": {
        "colab": {
          "base_uri": "https://localhost:8080/"
        },
        "id": "BaLlbYkZUCuI",
        "outputId": "cd3571f4-042b-4ef9-bb0d-b2c77f7078d5"
      },
      "execution_count": 18,
      "outputs": [
        {
          "output_type": "stream",
          "name": "stdout",
          "text": [
            "<class 'pandas.core.frame.DataFrame'>\n",
            "RangeIndex: 172 entries, 0 to 171\n",
            "Data columns (total 28 columns):\n",
            " #   Column               Non-Null Count  Dtype  \n",
            "---  ------               --------------  -----  \n",
            " 0   DISENO               172 non-null    object \n",
            " 1   Gramaje              172 non-null    int64  \n",
            " 2   PLANTA               172 non-null    object \n",
            " 3   GAP LO(mm)           172 non-null    float64\n",
            " 4   GAP LT(mm)           172 non-null    float64\n",
            " 5   Temp Horno 1         172 non-null    int64  \n",
            " 6   Temp Horno 2         172 non-null    int64  \n",
            " 7   Temp Horno 3         172 non-null    int64  \n",
            " 8   Temp Horno 4         172 non-null    int64  \n",
            " 9   Temp Horno 5         172 non-null    int64  \n",
            " 10  Temp Horno 6         172 non-null    int64  \n",
            " 11  Vel Vent Horno 1     172 non-null    int64  \n",
            " 12  Vel Vent Horno 2     172 non-null    int64  \n",
            " 13  Vel Vent Horno 3     172 non-null    int64  \n",
            " 14  Vel Vent Horno 4     172 non-null    int64  \n",
            " 15  Vel Vent Horno 5     172 non-null    int64  \n",
            " 16  Vel Vent Horno 6     172 non-null    int64  \n",
            " 17  Vel Linea            172 non-null    int64  \n",
            " 18  PESO IMPREGNADO LO1  172 non-null    float64\n",
            " 19  PESO IMPREGNADO LC   172 non-null    float64\n",
            " 20  PESO IMPREGNADO LT1  172 non-null    float64\n",
            " 21  VOLATILES LO2        172 non-null    float64\n",
            " 22  VOLATILES LC2        172 non-null    float64\n",
            " 23  VOLATILES LT2        172 non-null    float64\n",
            " 24  FLUIDEZ              172 non-null    float64\n",
            " 25  ESTADO B LO3         171 non-null    float64\n",
            " 26  ESTADO B LC3         171 non-null    float64\n",
            " 27  ESTADO B LT3         171 non-null    float64\n",
            "dtypes: float64(12), int64(14), object(2)\n",
            "memory usage: 37.8+ KB\n"
          ]
        }
      ]
    },
    {
      "cell_type": "markdown",
      "source": [
        "Se observa que todavía las variables del 25 al 27 tiene 171 registros, cuando debería ser 172.\n",
        "\n",
        "Verificamos que existan datos nulos"
      ],
      "metadata": {
        "id": "pqT9MJs9UQEz"
      }
    },
    {
      "cell_type": "code",
      "source": [
        "max(df.isnull().sum(axis=1))"
      ],
      "metadata": {
        "colab": {
          "base_uri": "https://localhost:8080/"
        },
        "id": "uowTIaEKUUfO",
        "outputId": "40df6126-d010-45ec-d232-ea77da692dfb"
      },
      "execution_count": 19,
      "outputs": [
        {
          "output_type": "execute_result",
          "data": {
            "text/plain": [
              "3"
            ]
          },
          "metadata": {},
          "execution_count": 19
        }
      ]
    },
    {
      "cell_type": "markdown",
      "source": [
        "Existen tres datos nulos en el datos. Se necesita saber en que variables están esos datos nulos."
      ],
      "metadata": {
        "id": "FITuQmihUXYO"
      }
    },
    {
      "cell_type": "code",
      "source": [
        "df.isnull().sum()"
      ],
      "metadata": {
        "colab": {
          "base_uri": "https://localhost:8080/"
        },
        "id": "NkMoXd7OUZrS",
        "outputId": "0e435957-9141-41cf-f6c3-530d08de4377"
      },
      "execution_count": 20,
      "outputs": [
        {
          "output_type": "execute_result",
          "data": {
            "text/plain": [
              "DISENO                 0\n",
              "Gramaje                0\n",
              "PLANTA                 0\n",
              "GAP LO(mm)             0\n",
              "GAP LT(mm)             0\n",
              "Temp Horno 1           0\n",
              "Temp Horno 2           0\n",
              "Temp Horno 3           0\n",
              "Temp Horno 4           0\n",
              "Temp Horno 5           0\n",
              "Temp Horno 6           0\n",
              "Vel Vent Horno 1       0\n",
              "Vel Vent Horno 2       0\n",
              "Vel Vent Horno 3       0\n",
              "Vel Vent Horno 4       0\n",
              "Vel Vent Horno 5       0\n",
              "Vel Vent Horno 6       0\n",
              "Vel Linea              0\n",
              "PESO IMPREGNADO LO1    0\n",
              "PESO IMPREGNADO LC     0\n",
              "PESO IMPREGNADO LT1    0\n",
              "VOLATILES LO2          0\n",
              "VOLATILES LC2          0\n",
              "VOLATILES LT2          0\n",
              "FLUIDEZ                0\n",
              "ESTADO B LO3           1\n",
              "ESTADO B LC3           1\n",
              "ESTADO B LT3           1\n",
              "dtype: int64"
            ]
          },
          "metadata": {},
          "execution_count": 20
        }
      ]
    },
    {
      "cell_type": "markdown",
      "source": [
        "Las caracteristicas 'ESTADO B LO3', ESTADO B LC3 y ESTADO B LT3 contiene los datos nulos.\n",
        "\n",
        "Se reemplaza los datos nulos por la moda de cada caracteristica."
      ],
      "metadata": {
        "id": "HEN3s5YnUgfm"
      }
    },
    {
      "cell_type": "code",
      "source": [
        "subset_cols=['ESTADO B LO3','ESTADO B LC3','ESTADO B LT3']\n",
        "[df[col].fillna(df[col].mode().values[0], inplace=True) for col in subset_cols]\n",
        "df.isnull().sum()"
      ],
      "metadata": {
        "colab": {
          "base_uri": "https://localhost:8080/"
        },
        "id": "eMj4ngpKUk79",
        "outputId": "a2c1d4c9-cced-4d52-d3cc-5fe8faf296f3"
      },
      "execution_count": 21,
      "outputs": [
        {
          "output_type": "execute_result",
          "data": {
            "text/plain": [
              "DISENO                 0\n",
              "Gramaje                0\n",
              "PLANTA                 0\n",
              "GAP LO(mm)             0\n",
              "GAP LT(mm)             0\n",
              "Temp Horno 1           0\n",
              "Temp Horno 2           0\n",
              "Temp Horno 3           0\n",
              "Temp Horno 4           0\n",
              "Temp Horno 5           0\n",
              "Temp Horno 6           0\n",
              "Vel Vent Horno 1       0\n",
              "Vel Vent Horno 2       0\n",
              "Vel Vent Horno 3       0\n",
              "Vel Vent Horno 4       0\n",
              "Vel Vent Horno 5       0\n",
              "Vel Vent Horno 6       0\n",
              "Vel Linea              0\n",
              "PESO IMPREGNADO LO1    0\n",
              "PESO IMPREGNADO LC     0\n",
              "PESO IMPREGNADO LT1    0\n",
              "VOLATILES LO2          0\n",
              "VOLATILES LC2          0\n",
              "VOLATILES LT2          0\n",
              "FLUIDEZ                0\n",
              "ESTADO B LO3           0\n",
              "ESTADO B LC3           0\n",
              "ESTADO B LT3           0\n",
              "dtype: int64"
            ]
          },
          "metadata": {},
          "execution_count": 21
        }
      ]
    },
    {
      "cell_type": "code",
      "source": [
        "max(df.isnull().sum(axis=1))"
      ],
      "metadata": {
        "colab": {
          "base_uri": "https://localhost:8080/"
        },
        "id": "4BNqh3RgVKIJ",
        "outputId": "178fc692-f366-4136-b3aa-6217fa1d77f8"
      },
      "execution_count": 22,
      "outputs": [
        {
          "output_type": "execute_result",
          "data": {
            "text/plain": [
              "0"
            ]
          },
          "metadata": {},
          "execution_count": 22
        }
      ]
    },
    {
      "cell_type": "markdown",
      "source": [
        "Se puede observar que las variables del 25 al 27 tienen 172 registros igual que las demás, también se observan que ya no tienen valores nulos."
      ],
      "metadata": {
        "id": "qxyABIXuUpUM"
      }
    },
    {
      "cell_type": "code",
      "source": [
        "df.to_csv('proyecto_pre-procesado.csv', index=False)"
      ],
      "metadata": {
        "id": "xgqJsTXPYDHF"
      },
      "execution_count": 24,
      "outputs": []
    }
  ]
}